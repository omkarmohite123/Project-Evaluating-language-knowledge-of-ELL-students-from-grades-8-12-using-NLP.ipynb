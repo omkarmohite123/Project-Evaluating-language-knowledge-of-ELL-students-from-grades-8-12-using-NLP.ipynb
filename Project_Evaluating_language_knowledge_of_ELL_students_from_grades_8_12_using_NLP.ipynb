{
  "cells": [
    {
      "cell_type": "markdown",
      "metadata": {
        "id": "view-in-github",
        "colab_type": "text"
      },
      "source": [
        "<a href=\"https://colab.research.google.com/github/omkarmohite123/Project-Evaluating-language-knowledge-of-ELL-students-from-grades-8-12-using-NLP.ipynb/blob/main/Project_Evaluating_language_knowledge_of_ELL_students_from_grades_8_12_using_NLP.ipynb\" target=\"_parent\"><img src=\"https://colab.research.google.com/assets/colab-badge.svg\" alt=\"Open In Colab\"/></a>"
      ]
    },
    {
      "cell_type": "markdown",
      "metadata": {
        "id": "y6E7iLtIl0C9"
      },
      "source": [
        "#Upload Dataset"
      ]
    },
    {
      "cell_type": "code",
      "execution_count": 9,
      "metadata": {
        "colab": {
          "base_uri": "https://localhost:8080/",
          "height": 75
        },
        "id": "hsIiq1l1CX70",
        "outputId": "cc4dc608-f2d9-4c55-e1ba-173bd5516ddb"
      },
      "outputs": [
        {
          "output_type": "display_data",
          "data": {
            "text/plain": [
              "<IPython.core.display.HTML object>"
            ],
            "text/html": [
              "\n",
              "     <input type=\"file\" id=\"files-83f65e73-30c0-41b9-b10b-fba2c9a33197\" name=\"files[]\" multiple disabled\n",
              "        style=\"border:none\" />\n",
              "     <output id=\"result-83f65e73-30c0-41b9-b10b-fba2c9a33197\">\n",
              "      Upload widget is only available when the cell has been executed in the\n",
              "      current browser session. Please rerun this cell to enable.\n",
              "      </output>\n",
              "      <script>// Copyright 2017 Google LLC\n",
              "//\n",
              "// Licensed under the Apache License, Version 2.0 (the \"License\");\n",
              "// you may not use this file except in compliance with the License.\n",
              "// You may obtain a copy of the License at\n",
              "//\n",
              "//      http://www.apache.org/licenses/LICENSE-2.0\n",
              "//\n",
              "// Unless required by applicable law or agreed to in writing, software\n",
              "// distributed under the License is distributed on an \"AS IS\" BASIS,\n",
              "// WITHOUT WARRANTIES OR CONDITIONS OF ANY KIND, either express or implied.\n",
              "// See the License for the specific language governing permissions and\n",
              "// limitations under the License.\n",
              "\n",
              "/**\n",
              " * @fileoverview Helpers for google.colab Python module.\n",
              " */\n",
              "(function(scope) {\n",
              "function span(text, styleAttributes = {}) {\n",
              "  const element = document.createElement('span');\n",
              "  element.textContent = text;\n",
              "  for (const key of Object.keys(styleAttributes)) {\n",
              "    element.style[key] = styleAttributes[key];\n",
              "  }\n",
              "  return element;\n",
              "}\n",
              "\n",
              "// Max number of bytes which will be uploaded at a time.\n",
              "const MAX_PAYLOAD_SIZE = 100 * 1024;\n",
              "\n",
              "function _uploadFiles(inputId, outputId) {\n",
              "  const steps = uploadFilesStep(inputId, outputId);\n",
              "  const outputElement = document.getElementById(outputId);\n",
              "  // Cache steps on the outputElement to make it available for the next call\n",
              "  // to uploadFilesContinue from Python.\n",
              "  outputElement.steps = steps;\n",
              "\n",
              "  return _uploadFilesContinue(outputId);\n",
              "}\n",
              "\n",
              "// This is roughly an async generator (not supported in the browser yet),\n",
              "// where there are multiple asynchronous steps and the Python side is going\n",
              "// to poll for completion of each step.\n",
              "// This uses a Promise to block the python side on completion of each step,\n",
              "// then passes the result of the previous step as the input to the next step.\n",
              "function _uploadFilesContinue(outputId) {\n",
              "  const outputElement = document.getElementById(outputId);\n",
              "  const steps = outputElement.steps;\n",
              "\n",
              "  const next = steps.next(outputElement.lastPromiseValue);\n",
              "  return Promise.resolve(next.value.promise).then((value) => {\n",
              "    // Cache the last promise value to make it available to the next\n",
              "    // step of the generator.\n",
              "    outputElement.lastPromiseValue = value;\n",
              "    return next.value.response;\n",
              "  });\n",
              "}\n",
              "\n",
              "/**\n",
              " * Generator function which is called between each async step of the upload\n",
              " * process.\n",
              " * @param {string} inputId Element ID of the input file picker element.\n",
              " * @param {string} outputId Element ID of the output display.\n",
              " * @return {!Iterable<!Object>} Iterable of next steps.\n",
              " */\n",
              "function* uploadFilesStep(inputId, outputId) {\n",
              "  const inputElement = document.getElementById(inputId);\n",
              "  inputElement.disabled = false;\n",
              "\n",
              "  const outputElement = document.getElementById(outputId);\n",
              "  outputElement.innerHTML = '';\n",
              "\n",
              "  const pickedPromise = new Promise((resolve) => {\n",
              "    inputElement.addEventListener('change', (e) => {\n",
              "      resolve(e.target.files);\n",
              "    });\n",
              "  });\n",
              "\n",
              "  const cancel = document.createElement('button');\n",
              "  inputElement.parentElement.appendChild(cancel);\n",
              "  cancel.textContent = 'Cancel upload';\n",
              "  const cancelPromise = new Promise((resolve) => {\n",
              "    cancel.onclick = () => {\n",
              "      resolve(null);\n",
              "    };\n",
              "  });\n",
              "\n",
              "  // Wait for the user to pick the files.\n",
              "  const files = yield {\n",
              "    promise: Promise.race([pickedPromise, cancelPromise]),\n",
              "    response: {\n",
              "      action: 'starting',\n",
              "    }\n",
              "  };\n",
              "\n",
              "  cancel.remove();\n",
              "\n",
              "  // Disable the input element since further picks are not allowed.\n",
              "  inputElement.disabled = true;\n",
              "\n",
              "  if (!files) {\n",
              "    return {\n",
              "      response: {\n",
              "        action: 'complete',\n",
              "      }\n",
              "    };\n",
              "  }\n",
              "\n",
              "  for (const file of files) {\n",
              "    const li = document.createElement('li');\n",
              "    li.append(span(file.name, {fontWeight: 'bold'}));\n",
              "    li.append(span(\n",
              "        `(${file.type || 'n/a'}) - ${file.size} bytes, ` +\n",
              "        `last modified: ${\n",
              "            file.lastModifiedDate ? file.lastModifiedDate.toLocaleDateString() :\n",
              "                                    'n/a'} - `));\n",
              "    const percent = span('0% done');\n",
              "    li.appendChild(percent);\n",
              "\n",
              "    outputElement.appendChild(li);\n",
              "\n",
              "    const fileDataPromise = new Promise((resolve) => {\n",
              "      const reader = new FileReader();\n",
              "      reader.onload = (e) => {\n",
              "        resolve(e.target.result);\n",
              "      };\n",
              "      reader.readAsArrayBuffer(file);\n",
              "    });\n",
              "    // Wait for the data to be ready.\n",
              "    let fileData = yield {\n",
              "      promise: fileDataPromise,\n",
              "      response: {\n",
              "        action: 'continue',\n",
              "      }\n",
              "    };\n",
              "\n",
              "    // Use a chunked sending to avoid message size limits. See b/62115660.\n",
              "    let position = 0;\n",
              "    do {\n",
              "      const length = Math.min(fileData.byteLength - position, MAX_PAYLOAD_SIZE);\n",
              "      const chunk = new Uint8Array(fileData, position, length);\n",
              "      position += length;\n",
              "\n",
              "      const base64 = btoa(String.fromCharCode.apply(null, chunk));\n",
              "      yield {\n",
              "        response: {\n",
              "          action: 'append',\n",
              "          file: file.name,\n",
              "          data: base64,\n",
              "        },\n",
              "      };\n",
              "\n",
              "      let percentDone = fileData.byteLength === 0 ?\n",
              "          100 :\n",
              "          Math.round((position / fileData.byteLength) * 100);\n",
              "      percent.textContent = `${percentDone}% done`;\n",
              "\n",
              "    } while (position < fileData.byteLength);\n",
              "  }\n",
              "\n",
              "  // All done.\n",
              "  yield {\n",
              "    response: {\n",
              "      action: 'complete',\n",
              "    }\n",
              "  };\n",
              "}\n",
              "\n",
              "scope.google = scope.google || {};\n",
              "scope.google.colab = scope.google.colab || {};\n",
              "scope.google.colab._files = {\n",
              "  _uploadFiles,\n",
              "  _uploadFilesContinue,\n",
              "};\n",
              "})(self);\n",
              "</script> "
            ]
          },
          "metadata": {}
        },
        {
          "output_type": "stream",
          "name": "stdout",
          "text": [
            "Saving sample_submission.csv to sample_submission.csv\n"
          ]
        }
      ],
      "source": [
        "from google.colab import files\n",
        "uploaded=files.upload()"
      ]
    },
    {
      "cell_type": "markdown",
      "metadata": {
        "id": "KqyEUXSRk-MW"
      },
      "source": [
        "#Import"
      ]
    },
    {
      "cell_type": "code",
      "source": [
        "import numpy as np\n",
        "import pandas as pd\n",
        "\n",
        "import matplotlib.pyplot as plt\n",
        "import seaborn as sns\n",
        "\n",
        "from tqdm import tqdm\n",
        "tqdm.pandas()\n",
        "\n",
        "from lightgbm import LGBMRegressor\n",
        "from sklearn import model_selection\n",
        "from sklearn import metrics\n",
        "\n",
        "import string\n",
        "from nltk.corpus import stopwords\n",
        "\n",
        "import nltk\n",
        "from nltk.stem.snowball import SnowballStemmer\n",
        "\n",
        "# d2v import\n",
        "import gensim\n",
        "from gensim.models.doc2vec import Doc2Vec, TaggedDocument"
      ],
      "metadata": {
        "id": "MdKnquyOsRZ5"
      },
      "execution_count": 10,
      "outputs": []
    },
    {
      "cell_type": "code",
      "source": [
        "train =pd.read_csv(\"/content/train.csv\") \n",
        "test =pd.read_csv(\"/content/test.csv\")\n",
        "sample=pd.read_csv(\"/content/sample_submission.csv\")"
      ],
      "metadata": {
        "id": "6UdN10JpsReP"
      },
      "execution_count": 11,
      "outputs": []
    },
    {
      "cell_type": "code",
      "source": [
        "train.head()"
      ],
      "metadata": {
        "colab": {
          "base_uri": "https://localhost:8080/",
          "height": 206
        },
        "id": "xYJM7qwLu2Yf",
        "outputId": "3ad46819-1038-40b4-afea-ccf631aa8de8"
      },
      "execution_count": 12,
      "outputs": [
        {
          "output_type": "execute_result",
          "data": {
            "text/plain": [
              "        text_id                                          full_text  cohesion  \\\n",
              "0  0016926B079C  I think that students would benefit from learn...       3.5   \n",
              "1  0022683E9EA5  When a problem is a change you have to let it ...       2.5   \n",
              "2  00299B378633  Dear, Principal\\n\\nIf u change the school poli...       3.0   \n",
              "3  003885A45F42  The best time in life is when you become yours...       4.5   \n",
              "4  0049B1DF5CCC  Small act of kindness can impact in other peop...       2.5   \n",
              "\n",
              "   syntax  vocabulary  phraseology  grammar  conventions  \n",
              "0     3.5         3.0          3.0      4.0          3.0  \n",
              "1     2.5         3.0          2.0      2.0          2.5  \n",
              "2     3.5         3.0          3.0      3.0          2.5  \n",
              "3     4.5         4.5          4.5      4.0          5.0  \n",
              "4     3.0         3.0          3.0      2.5          2.5  "
            ],
            "text/html": [
              "\n",
              "  <div id=\"df-5cb2be12-9f97-41a1-9fd9-f1201dfbe726\">\n",
              "    <div class=\"colab-df-container\">\n",
              "      <div>\n",
              "<style scoped>\n",
              "    .dataframe tbody tr th:only-of-type {\n",
              "        vertical-align: middle;\n",
              "    }\n",
              "\n",
              "    .dataframe tbody tr th {\n",
              "        vertical-align: top;\n",
              "    }\n",
              "\n",
              "    .dataframe thead th {\n",
              "        text-align: right;\n",
              "    }\n",
              "</style>\n",
              "<table border=\"1\" class=\"dataframe\">\n",
              "  <thead>\n",
              "    <tr style=\"text-align: right;\">\n",
              "      <th></th>\n",
              "      <th>text_id</th>\n",
              "      <th>full_text</th>\n",
              "      <th>cohesion</th>\n",
              "      <th>syntax</th>\n",
              "      <th>vocabulary</th>\n",
              "      <th>phraseology</th>\n",
              "      <th>grammar</th>\n",
              "      <th>conventions</th>\n",
              "    </tr>\n",
              "  </thead>\n",
              "  <tbody>\n",
              "    <tr>\n",
              "      <th>0</th>\n",
              "      <td>0016926B079C</td>\n",
              "      <td>I think that students would benefit from learn...</td>\n",
              "      <td>3.5</td>\n",
              "      <td>3.5</td>\n",
              "      <td>3.0</td>\n",
              "      <td>3.0</td>\n",
              "      <td>4.0</td>\n",
              "      <td>3.0</td>\n",
              "    </tr>\n",
              "    <tr>\n",
              "      <th>1</th>\n",
              "      <td>0022683E9EA5</td>\n",
              "      <td>When a problem is a change you have to let it ...</td>\n",
              "      <td>2.5</td>\n",
              "      <td>2.5</td>\n",
              "      <td>3.0</td>\n",
              "      <td>2.0</td>\n",
              "      <td>2.0</td>\n",
              "      <td>2.5</td>\n",
              "    </tr>\n",
              "    <tr>\n",
              "      <th>2</th>\n",
              "      <td>00299B378633</td>\n",
              "      <td>Dear, Principal\\n\\nIf u change the school poli...</td>\n",
              "      <td>3.0</td>\n",
              "      <td>3.5</td>\n",
              "      <td>3.0</td>\n",
              "      <td>3.0</td>\n",
              "      <td>3.0</td>\n",
              "      <td>2.5</td>\n",
              "    </tr>\n",
              "    <tr>\n",
              "      <th>3</th>\n",
              "      <td>003885A45F42</td>\n",
              "      <td>The best time in life is when you become yours...</td>\n",
              "      <td>4.5</td>\n",
              "      <td>4.5</td>\n",
              "      <td>4.5</td>\n",
              "      <td>4.5</td>\n",
              "      <td>4.0</td>\n",
              "      <td>5.0</td>\n",
              "    </tr>\n",
              "    <tr>\n",
              "      <th>4</th>\n",
              "      <td>0049B1DF5CCC</td>\n",
              "      <td>Small act of kindness can impact in other peop...</td>\n",
              "      <td>2.5</td>\n",
              "      <td>3.0</td>\n",
              "      <td>3.0</td>\n",
              "      <td>3.0</td>\n",
              "      <td>2.5</td>\n",
              "      <td>2.5</td>\n",
              "    </tr>\n",
              "  </tbody>\n",
              "</table>\n",
              "</div>\n",
              "      <button class=\"colab-df-convert\" onclick=\"convertToInteractive('df-5cb2be12-9f97-41a1-9fd9-f1201dfbe726')\"\n",
              "              title=\"Convert this dataframe to an interactive table.\"\n",
              "              style=\"display:none;\">\n",
              "        \n",
              "  <svg xmlns=\"http://www.w3.org/2000/svg\" height=\"24px\"viewBox=\"0 0 24 24\"\n",
              "       width=\"24px\">\n",
              "    <path d=\"M0 0h24v24H0V0z\" fill=\"none\"/>\n",
              "    <path d=\"M18.56 5.44l.94 2.06.94-2.06 2.06-.94-2.06-.94-.94-2.06-.94 2.06-2.06.94zm-11 1L8.5 8.5l.94-2.06 2.06-.94-2.06-.94L8.5 2.5l-.94 2.06-2.06.94zm10 10l.94 2.06.94-2.06 2.06-.94-2.06-.94-.94-2.06-.94 2.06-2.06.94z\"/><path d=\"M17.41 7.96l-1.37-1.37c-.4-.4-.92-.59-1.43-.59-.52 0-1.04.2-1.43.59L10.3 9.45l-7.72 7.72c-.78.78-.78 2.05 0 2.83L4 21.41c.39.39.9.59 1.41.59.51 0 1.02-.2 1.41-.59l7.78-7.78 2.81-2.81c.8-.78.8-2.07 0-2.86zM5.41 20L4 18.59l7.72-7.72 1.47 1.35L5.41 20z\"/>\n",
              "  </svg>\n",
              "      </button>\n",
              "      \n",
              "  <style>\n",
              "    .colab-df-container {\n",
              "      display:flex;\n",
              "      flex-wrap:wrap;\n",
              "      gap: 12px;\n",
              "    }\n",
              "\n",
              "    .colab-df-convert {\n",
              "      background-color: #E8F0FE;\n",
              "      border: none;\n",
              "      border-radius: 50%;\n",
              "      cursor: pointer;\n",
              "      display: none;\n",
              "      fill: #1967D2;\n",
              "      height: 32px;\n",
              "      padding: 0 0 0 0;\n",
              "      width: 32px;\n",
              "    }\n",
              "\n",
              "    .colab-df-convert:hover {\n",
              "      background-color: #E2EBFA;\n",
              "      box-shadow: 0px 1px 2px rgba(60, 64, 67, 0.3), 0px 1px 3px 1px rgba(60, 64, 67, 0.15);\n",
              "      fill: #174EA6;\n",
              "    }\n",
              "\n",
              "    [theme=dark] .colab-df-convert {\n",
              "      background-color: #3B4455;\n",
              "      fill: #D2E3FC;\n",
              "    }\n",
              "\n",
              "    [theme=dark] .colab-df-convert:hover {\n",
              "      background-color: #434B5C;\n",
              "      box-shadow: 0px 1px 3px 1px rgba(0, 0, 0, 0.15);\n",
              "      filter: drop-shadow(0px 1px 2px rgba(0, 0, 0, 0.3));\n",
              "      fill: #FFFFFF;\n",
              "    }\n",
              "  </style>\n",
              "\n",
              "      <script>\n",
              "        const buttonEl =\n",
              "          document.querySelector('#df-5cb2be12-9f97-41a1-9fd9-f1201dfbe726 button.colab-df-convert');\n",
              "        buttonEl.style.display =\n",
              "          google.colab.kernel.accessAllowed ? 'block' : 'none';\n",
              "\n",
              "        async function convertToInteractive(key) {\n",
              "          const element = document.querySelector('#df-5cb2be12-9f97-41a1-9fd9-f1201dfbe726');\n",
              "          const dataTable =\n",
              "            await google.colab.kernel.invokeFunction('convertToInteractive',\n",
              "                                                     [key], {});\n",
              "          if (!dataTable) return;\n",
              "\n",
              "          const docLinkHtml = 'Like what you see? Visit the ' +\n",
              "            '<a target=\"_blank\" href=https://colab.research.google.com/notebooks/data_table.ipynb>data table notebook</a>'\n",
              "            + ' to learn more about interactive tables.';\n",
              "          element.innerHTML = '';\n",
              "          dataTable['output_type'] = 'display_data';\n",
              "          await google.colab.output.renderOutput(dataTable, element);\n",
              "          const docLink = document.createElement('div');\n",
              "          docLink.innerHTML = docLinkHtml;\n",
              "          element.appendChild(docLink);\n",
              "        }\n",
              "      </script>\n",
              "    </div>\n",
              "  </div>\n",
              "  "
            ]
          },
          "metadata": {},
          "execution_count": 12
        }
      ]
    },
    {
      "cell_type": "code",
      "source": [
        "test.head()"
      ],
      "metadata": {
        "colab": {
          "base_uri": "https://localhost:8080/",
          "height": 143
        },
        "id": "SyECrRlbu2cG",
        "outputId": "619ccf94-4f68-4237-8f0f-4f840e76fa57"
      },
      "execution_count": 13,
      "outputs": [
        {
          "output_type": "execute_result",
          "data": {
            "text/plain": [
              "        text_id                                          full_text\n",
              "0  0000C359D63E  when a person has no experience on a job their...\n",
              "1  000BAD50D026  Do you think students would benefit from being...\n",
              "2  00367BB2546B  Thomas Jefferson once states that \"it is wonde..."
            ],
            "text/html": [
              "\n",
              "  <div id=\"df-3edd937f-1de3-4c84-80f4-a5c1ae388f5d\">\n",
              "    <div class=\"colab-df-container\">\n",
              "      <div>\n",
              "<style scoped>\n",
              "    .dataframe tbody tr th:only-of-type {\n",
              "        vertical-align: middle;\n",
              "    }\n",
              "\n",
              "    .dataframe tbody tr th {\n",
              "        vertical-align: top;\n",
              "    }\n",
              "\n",
              "    .dataframe thead th {\n",
              "        text-align: right;\n",
              "    }\n",
              "</style>\n",
              "<table border=\"1\" class=\"dataframe\">\n",
              "  <thead>\n",
              "    <tr style=\"text-align: right;\">\n",
              "      <th></th>\n",
              "      <th>text_id</th>\n",
              "      <th>full_text</th>\n",
              "    </tr>\n",
              "  </thead>\n",
              "  <tbody>\n",
              "    <tr>\n",
              "      <th>0</th>\n",
              "      <td>0000C359D63E</td>\n",
              "      <td>when a person has no experience on a job their...</td>\n",
              "    </tr>\n",
              "    <tr>\n",
              "      <th>1</th>\n",
              "      <td>000BAD50D026</td>\n",
              "      <td>Do you think students would benefit from being...</td>\n",
              "    </tr>\n",
              "    <tr>\n",
              "      <th>2</th>\n",
              "      <td>00367BB2546B</td>\n",
              "      <td>Thomas Jefferson once states that \"it is wonde...</td>\n",
              "    </tr>\n",
              "  </tbody>\n",
              "</table>\n",
              "</div>\n",
              "      <button class=\"colab-df-convert\" onclick=\"convertToInteractive('df-3edd937f-1de3-4c84-80f4-a5c1ae388f5d')\"\n",
              "              title=\"Convert this dataframe to an interactive table.\"\n",
              "              style=\"display:none;\">\n",
              "        \n",
              "  <svg xmlns=\"http://www.w3.org/2000/svg\" height=\"24px\"viewBox=\"0 0 24 24\"\n",
              "       width=\"24px\">\n",
              "    <path d=\"M0 0h24v24H0V0z\" fill=\"none\"/>\n",
              "    <path d=\"M18.56 5.44l.94 2.06.94-2.06 2.06-.94-2.06-.94-.94-2.06-.94 2.06-2.06.94zm-11 1L8.5 8.5l.94-2.06 2.06-.94-2.06-.94L8.5 2.5l-.94 2.06-2.06.94zm10 10l.94 2.06.94-2.06 2.06-.94-2.06-.94-.94-2.06-.94 2.06-2.06.94z\"/><path d=\"M17.41 7.96l-1.37-1.37c-.4-.4-.92-.59-1.43-.59-.52 0-1.04.2-1.43.59L10.3 9.45l-7.72 7.72c-.78.78-.78 2.05 0 2.83L4 21.41c.39.39.9.59 1.41.59.51 0 1.02-.2 1.41-.59l7.78-7.78 2.81-2.81c.8-.78.8-2.07 0-2.86zM5.41 20L4 18.59l7.72-7.72 1.47 1.35L5.41 20z\"/>\n",
              "  </svg>\n",
              "      </button>\n",
              "      \n",
              "  <style>\n",
              "    .colab-df-container {\n",
              "      display:flex;\n",
              "      flex-wrap:wrap;\n",
              "      gap: 12px;\n",
              "    }\n",
              "\n",
              "    .colab-df-convert {\n",
              "      background-color: #E8F0FE;\n",
              "      border: none;\n",
              "      border-radius: 50%;\n",
              "      cursor: pointer;\n",
              "      display: none;\n",
              "      fill: #1967D2;\n",
              "      height: 32px;\n",
              "      padding: 0 0 0 0;\n",
              "      width: 32px;\n",
              "    }\n",
              "\n",
              "    .colab-df-convert:hover {\n",
              "      background-color: #E2EBFA;\n",
              "      box-shadow: 0px 1px 2px rgba(60, 64, 67, 0.3), 0px 1px 3px 1px rgba(60, 64, 67, 0.15);\n",
              "      fill: #174EA6;\n",
              "    }\n",
              "\n",
              "    [theme=dark] .colab-df-convert {\n",
              "      background-color: #3B4455;\n",
              "      fill: #D2E3FC;\n",
              "    }\n",
              "\n",
              "    [theme=dark] .colab-df-convert:hover {\n",
              "      background-color: #434B5C;\n",
              "      box-shadow: 0px 1px 3px 1px rgba(0, 0, 0, 0.15);\n",
              "      filter: drop-shadow(0px 1px 2px rgba(0, 0, 0, 0.3));\n",
              "      fill: #FFFFFF;\n",
              "    }\n",
              "  </style>\n",
              "\n",
              "      <script>\n",
              "        const buttonEl =\n",
              "          document.querySelector('#df-3edd937f-1de3-4c84-80f4-a5c1ae388f5d button.colab-df-convert');\n",
              "        buttonEl.style.display =\n",
              "          google.colab.kernel.accessAllowed ? 'block' : 'none';\n",
              "\n",
              "        async function convertToInteractive(key) {\n",
              "          const element = document.querySelector('#df-3edd937f-1de3-4c84-80f4-a5c1ae388f5d');\n",
              "          const dataTable =\n",
              "            await google.colab.kernel.invokeFunction('convertToInteractive',\n",
              "                                                     [key], {});\n",
              "          if (!dataTable) return;\n",
              "\n",
              "          const docLinkHtml = 'Like what you see? Visit the ' +\n",
              "            '<a target=\"_blank\" href=https://colab.research.google.com/notebooks/data_table.ipynb>data table notebook</a>'\n",
              "            + ' to learn more about interactive tables.';\n",
              "          element.innerHTML = '';\n",
              "          dataTable['output_type'] = 'display_data';\n",
              "          await google.colab.output.renderOutput(dataTable, element);\n",
              "          const docLink = document.createElement('div');\n",
              "          docLink.innerHTML = docLinkHtml;\n",
              "          element.appendChild(docLink);\n",
              "        }\n",
              "      </script>\n",
              "    </div>\n",
              "  </div>\n",
              "  "
            ]
          },
          "metadata": {},
          "execution_count": 13
        }
      ]
    },
    {
      "cell_type": "markdown",
      "source": [
        "#EDA: check score features distributions\n"
      ],
      "metadata": {
        "id": "MsyVseFBvCyP"
      }
    },
    {
      "cell_type": "code",
      "source": [
        "score_features=list(train.columns)\n",
        "score_features.remove('text_id')\n",
        "score_features.remove('full_text')\n",
        "\n",
        "plt.rcParams[\"figure.figsize\"] = (20,3)\n",
        "\n",
        "fig,ax=plt.subplots(1,6)\n",
        "count=0\n",
        "for f in score_features:\n",
        "    ax[count].hist(list(train[f].values))\n",
        "    ax[count].set_title(f)\n",
        "    count=count+1\n",
        "    \n",
        "plt.show()"
      ],
      "metadata": {
        "colab": {
          "base_uri": "https://localhost:8080/",
          "height": 227
        },
        "id": "XGQfJ6spvAIX",
        "outputId": "f45f450f-c1d4-480d-fd56-b4aadc995d54"
      },
      "execution_count": 14,
      "outputs": [
        {
          "output_type": "display_data",
          "data": {
            "text/plain": [
              "<Figure size 1440x216 with 6 Axes>"
            ],
            "image/png": "[encoded data removed]"
          },
          "metadata": {
            "needs_background": "light"
          }
        }
      ]
    },
    {
      "cell_type": "markdown",
      "source": [
        "#First question: why is there no value between 2.5 and 3 for any of the variables?\n",
        "\n"
      ],
      "metadata": {
        "id": "3lbtRv9bxQVv"
      }
    },
    {
      "cell_type": "markdown",
      "source": [
        "#EDA: check essay length\n"
      ],
      "metadata": {
        "id": "ZhA95qjRw2Lm"
      }
    },
    {
      "cell_type": "code",
      "source": [
        "# check length of content\n",
        "def get_length_of_text(x):\n",
        "    return len(x)\n",
        "\n",
        "print(f'Average length: {train.full_text.apply(lambda x: get_length_of_text(x)).mean():0.2f}')\n",
        "print(f'Std length: {train.full_text.apply(lambda x: get_length_of_text(x)).std():0.2f}')\n",
        "print(f'Min length: {train.full_text.apply(lambda x: get_length_of_text(x)).min():0.2f}')\n",
        "print(f'Max length: {train.full_text.apply(lambda x: get_length_of_text(x)).max():0.2f}')\n"
      ],
      "metadata": {
        "colab": {
          "base_uri": "https://localhost:8080/"
        },
        "id": "1OZsVicWvALd",
        "outputId": "3fc320a5-e2a0-4768-c14b-08cf462061d6"
      },
      "execution_count": 15,
      "outputs": [
        {
          "output_type": "stream",
          "name": "stdout",
          "text": [
            "Average length: 2334.52\n",
            "Std length: 1033.41\n",
            "Min length: 82.00\n",
            "Max length: 6044.00\n"
          ]
        }
      ]
    },
    {
      "cell_type": "code",
      "source": [
        "train.full_text.apply(lambda x: get_length_of_text(x)).hist();"
      ],
      "metadata": {
        "colab": {
          "base_uri": "https://localhost:8080/",
          "height": 211
        },
        "id": "tUuj1PE1vAbu",
        "outputId": "ad95742f-70cc-46a3-9fd0-493a139948a6"
      },
      "execution_count": 16,
      "outputs": [
        {
          "output_type": "display_data",
          "data": {
            "text/plain": [
              "<Figure size 1440x216 with 1 Axes>"
            ],
            "image/png": "[encoded data removed]"
          },
          "metadata": {
            "needs_background": "light"
          }
        }
      ]
    },
    {
      "cell_type": "markdown",
      "source": [
        "#EDA: Check nans\n"
      ],
      "metadata": {
        "id": "pMKSD335xnfk"
      }
    },
    {
      "cell_type": "code",
      "source": [
        "train.isna().sum()"
      ],
      "metadata": {
        "colab": {
          "base_uri": "https://localhost:8080/"
        },
        "id": "NeKory-dvAgC",
        "outputId": "a79a4b26-4d70-45f4-bd00-1f6c0080a2e4"
      },
      "execution_count": 17,
      "outputs": [
        {
          "output_type": "execute_result",
          "data": {
            "text/plain": [
              "text_id        0\n",
              "full_text      0\n",
              "cohesion       0\n",
              "syntax         0\n",
              "vocabulary     0\n",
              "phraseology    0\n",
              "grammar        0\n",
              "conventions    0\n",
              "dtype: int64"
            ]
          },
          "metadata": {},
          "execution_count": 17
        }
      ]
    },
    {
      "cell_type": "markdown",
      "source": [
        "#EDA: Check correlations\n"
      ],
      "metadata": {
        "id": "tXa2fMC7xwyH"
      }
    },
    {
      "cell_type": "code",
      "execution_count": 18,
      "metadata": {
        "id": "QFA-EMFulImn",
        "colab": {
          "base_uri": "https://localhost:8080/",
          "height": 215
        },
        "outputId": "695ee201-06b3-400e-a3e9-a5d7b105776f"
      },
      "outputs": [
        {
          "output_type": "display_data",
          "data": {
            "text/plain": [
              "<Figure size 1440x216 with 2 Axes>"
            ],
            "image/png": "[encoded data removed]"
          },
          "metadata": {
            "needs_background": "light"
          }
        }
      ],
      "source": [
        "colormap = sns.color_palette(\"Blues\")\n",
        "sns.heatmap(train.corr(), annot=True, cmap=colormap);"
      ]
    },
    {
      "cell_type": "markdown",
      "source": [
        "#All variables are *correlated* with each other\n"
      ],
      "metadata": {
        "id": "ufj-bVIVySKX"
      }
    },
    {
      "cell_type": "markdown",
      "source": [
        "#Vectorization and Modeling\n"
      ],
      "metadata": {
        "id": "bsztKGGoyMuF"
      }
    },
    {
      "cell_type": "markdown",
      "source": [
        "We will build 6 models each predict a score\n",
        "\n",
        "to represent a essay, I will use Doc2Vec (D2V) model to encode the essay to an array"
      ],
      "metadata": {
        "id": "GIDkmgB4yjuA"
      }
    },
    {
      "cell_type": "markdown",
      "source": [
        "#1. tokenize and stemming"
      ],
      "metadata": {
        "id": "HWOZ3uGjyso2"
      }
    },
    {
      "cell_type": "code",
      "source": [
        "stemmer = SnowballStemmer(\"english\")\n",
        "\n",
        "def tokenization_and_stemming(text):\n",
        "    tokens = []\n",
        "    pattern = r'''(?x)          \n",
        "        (?:[A-Z]\\.)+        \n",
        "      | \\w+(?:-\\w+)*       \n",
        "      | \\$?\\d+(?:\\.\\d+)?%?  \n",
        "      | \\.\\.\\.              \n",
        "      | [][.,;\"'?():_`-]   \n",
        "    '''\n",
        "    # Stokenize the document, generate a list of string \n",
        "    for word in nltk.regexp_tokenize(text, pattern):\n",
        "        tokens.append(word.lower())\n",
        "\n",
        "    filtered_tokens = []\n",
        "    \n",
        "    # filter out any tokens not containing letters (e.g., numeric tokens, raw punctuation)\n",
        "    for token in tokens:\n",
        "        if token.isalpha(): # filter out non alphabet words like emoji\n",
        "            filtered_tokens.append(token)\n",
        "            \n",
        "    # stemming\n",
        "    stems = [stemmer.stem(t) for t in filtered_tokens]\n",
        "    return stems"
      ],
      "metadata": {
        "id": "bDph4m93ycif"
      },
      "execution_count": 19,
      "outputs": []
    },
    {
      "cell_type": "code",
      "source": [
        "processed_essays_train=[]\n",
        "processed_essays_test=[]\n",
        "\n",
        "for ess in list(train['full_text']):\n",
        "    processed_essays_train.append(tokenization_and_stemming(ess))\n",
        "for ess in list(test['full_text']):\n",
        "    processed_essays_test.append(tokenization_and_stemming(ess))\n",
        "    \n",
        "processed_essays=[]\n",
        "processed_essays.extend(processed_essays_train)\n",
        "processed_essays.extend(processed_essays_test)"
      ],
      "metadata": {
        "id": "oRFiTtMOy3oU"
      },
      "execution_count": 20,
      "outputs": []
    },
    {
      "cell_type": "markdown",
      "source": [
        "#2. tag essays and DOC2VEC processing\n"
      ],
      "metadata": {
        "id": "8FEJm0SgzJk2"
      }
    },
    {
      "cell_type": "code",
      "source": [
        "# tag document\n",
        "processed_essays_train_tagged = [TaggedDocument(processed_essays_train[i], list(train.iloc[i,2:8])) for i in range(0,len(processed_essays_train))]"
      ],
      "metadata": {
        "id": "lkE3INmWy3sw"
      },
      "execution_count": 21,
      "outputs": []
    },
    {
      "cell_type": "code",
      "source": [
        "processed_essays_train_tagged[0]"
      ],
      "metadata": {
        "colab": {
          "base_uri": "https://localhost:8080/"
        },
        "id": "KsKxHdqfycl4",
        "outputId": "3a6e8557-8197-4689-f76b-d8eca2e83535"
      },
      "execution_count": 22,
      "outputs": [
        {
          "output_type": "execute_result",
          "data": {
            "text/plain": [
              "TaggedDocument(words=['i', 'think', 'that', 'student', 'would', 'benefit', 'from', 'learn', 'at', 'home', 'becaus', 'they', 'wont', 'have', 'to', 'chang', 'and', 'get', 'up', 'earli', 'in', 'the', 'morn', 'to', 'shower', 'and', 'do', 'there', 'hair', 'take', 'onli', 'class', 'help', 'them', 'becaus', 'at', 'there', 'hous', 'they', 'll', 'be', 'pay', 'more', 'attent', 'they', 'will', 'be', 'comfort', 'at', 'home', 'the', 'hardest', 'part', 'of', 'school', 'is', 'get', 'readi', 'you', 'wake', 'up', 'go', 'brush', 'your', 'teeth', 'and', 'go', 'to', 'your', 'closet', 'and', 'look', 'at', 'your', 'cloth', 'after', 'you', 'think', 'you', 'pick', 'a', 'outfit', 'u', 'go', 'look', 'in', 'the', 'mirror', 'and', 'youll', 'either', 'not', 'like', 'it', 'or', 'you', 'look', 'and', 'see', 'a', 'stain', 'then', 'you', 'll', 'have', 'to', 'chang', 'with', 'the', 'onlin', 'class', 'you', 'can', 'wear', 'anyth', 'and', 'stay', 'home', 'and', 'you', 'wont', 'need', 'to', 'stress', 'about', 'what', 'to', 'wear', 'most', 'student', 'usual', 'take', 'shower', 'befor', 'school', 'they', 'either', 'take', 'it', 'befor', 'they', 'sleep', 'or', 'when', 'they', 'wake', 'up', 'some', 'student', 'do', 'both', 'to', 'smell', 'good', 'that', 'caus', 'them', 'do', 'miss', 'the', 'bus', 'and', 'effect', 'on', 'there', 'lesson', 'time', 'caus', 'they', 'come', 'late', 'to', 'school', 'when', 'u', 'have', 'onlin', 'class', 'u', 'wont', 'need', 'to', 'miss', 'lesson', 'caus', 'you', 'can', 'get', 'everyth', 'set', 'up', 'and', 'go', 'take', 'a', 'shower', 'and', 'when', 'u', 'get', 'out', 'your', 'readi', 'to', 'go', 'when', 'your', 'home', 'your', 'comfort', 'and', 'you', 'pay', 'attent', 'it', 'give', 'then', 'an', 'advantag', 'to', 'be', 'smarter', 'and', 'even', 'pass', 'there', 'classmat', 'on', 'class', 'work', 'public', 'school', 'are', 'difficult', 'even', 'if', 'you', 'tri', 'some', 'teacher', 'dont', 'know', 'how', 'to', 'teach', 'it', 'in', 'then', 'way', 'that', 'student', 'understand', 'it', 'that', 'caus', 'student', 'to', 'fail', 'and', 'they', 'may', 'repeat', 'the', 'class'], tags=[3.5, 3.5, 3.0, 3.0, 4.0, 3.0])"
            ]
          },
          "metadata": {},
          "execution_count": 22
        }
      ]
    },
    {
      "cell_type": "code",
      "source": [
        "# doc2vec model\n",
        "doc2vecModel = Doc2Vec(vector_size=2000, window=2, dm=0,min_count=1, workers=8, epochs = 40)\n",
        "#build vocab\n",
        "doc2vecModel.build_vocab(processed_essays_train_tagged)\n",
        "#train model\n",
        "doc2vecModel.train(processed_essays_train_tagged, total_examples=doc2vecModel.corpus_count, epochs=doc2vecModel.epochs)"
      ],
      "metadata": {
        "id": "8X1DEOX0zXeu"
      },
      "execution_count": 23,
      "outputs": []
    },
    {
      "cell_type": "code",
      "source": [
        "# doc vec gen\n",
        "xx=[doc2vecModel.infer_vector(processed_essays_train[i]) for i in range(0,len(processed_essays_train))]"
      ],
      "metadata": {
        "id": "1Qj4UU2xzXhy"
      },
      "execution_count": 24,
      "outputs": []
    },
    {
      "cell_type": "markdown",
      "source": [
        "#now xx should be the vectors of essays, use tsne to check its separatbility\n"
      ],
      "metadata": {
        "id": "O0tiN0ey1ZVO"
      }
    },
    {
      "cell_type": "code",
      "source": [
        "# score types and colors\n",
        "#score_color = []\n",
        "#score_list=[1,1.5,2,2.5,3,3.5,4,4.5,5]\n",
        "\n",
        "#for s in train.iloc[:,2:8].values:\n"
      ],
      "metadata": {
        "id": "rhPObw-Q1WY-"
      },
      "execution_count": 25,
      "outputs": []
    },
    {
      "cell_type": "code",
      "source": [
        "from sklearn.manifold import TSNE\n",
        "X_embedded = TSNE(n_components=2, init='random', perplexity=3).fit_transform(xx)\n",
        "\n",
        "plt.rcParams[\"figure.figsize\"] = (10,10)\n",
        "plt.scatter(X_embedded[:,0],X_embedded[:,1])\n",
        "plt.show()"
      ],
      "metadata": {
        "colab": {
          "base_uri": "https://localhost:8080/",
          "height": 628
        },
        "id": "sXIGwoIm1Wcw",
        "outputId": "0e258b5e-a36b-482a-bdbb-68febfc850cb"
      },
      "execution_count": 26,
      "outputs": [
        {
          "output_type": "stream",
          "name": "stderr",
          "text": [
            "/usr/local/lib/python3.7/dist-packages/sklearn/manifold/_t_sne.py:793: FutureWarning: The default learning rate in TSNE will change from 200.0 to 'auto' in 1.2.\n",
            "  FutureWarning,\n"
          ]
        },
        {
          "output_type": "display_data",
          "data": {
            "text/plain": [
              "<Figure size 720x720 with 1 Axes>"
            ],
            "image/png": "[encoded data removed]"
          },
          "metadata": {
            "needs_background": "light"
          }
        }
      ]
    },
    {
      "cell_type": "markdown",
      "source": [
        "3. feature data generation with d2v results\n"
      ],
      "metadata": {
        "id": "waoawDL71y22"
      }
    },
    {
      "cell_type": "code",
      "source": [
        "X = np.array(xx)"
      ],
      "metadata": {
        "id": "OfHAV6cu1Wf7"
      },
      "execution_count": 27,
      "outputs": []
    },
    {
      "cell_type": "code",
      "source": [
        "cohesion_train = train.cohesion.values\n",
        "syntax_train = train.syntax.values\n",
        "vocabulary_train = train.vocabulary.values\n",
        "phraseology_train = train.phraseology.values\n",
        "grammar_train = train.grammar.values\n",
        "conventions_train = train.conventions.values"
      ],
      "metadata": {
        "id": "NAv7gQ0417da"
      },
      "execution_count": 28,
      "outputs": []
    },
    {
      "cell_type": "markdown",
      "source": [
        "#Hyperparameter optimization with Optuna\n"
      ],
      "metadata": {
        "id": "JIzLLtqN2Bil"
      }
    },
    {
      "cell_type": "code",
      "source": [
        "optuna_train_values=np.zeros(len(cohesion_train))\n"
      ],
      "metadata": {
        "id": "Gd_sQ9pp2Exm"
      },
      "execution_count": 29,
      "outputs": []
    },
    {
      "cell_type": "code",
      "source": [
        "!pip install optuna"
      ],
      "metadata": {
        "colab": {
          "base_uri": "https://localhost:8080/"
        },
        "id": "TID8AmF56cSY",
        "outputId": "e0da0c31-1227-4554-9424-7be60ae18e86"
      },
      "execution_count": 31,
      "outputs": [
        {
          "output_type": "stream",
          "name": "stdout",
          "text": [
            "Looking in indexes: https://pypi.org/simple, https://us-python.pkg.dev/colab-wheels/public/simple/\n",
            "Collecting optuna\n",
            "  Downloading optuna-3.0.3-py3-none-any.whl (348 kB)\n",
            "\u001b[K     |████████████████████████████████| 348 kB 4.6 MB/s \n",
            "\u001b[?25hCollecting alembic>=1.5.0\n",
            "  Downloading alembic-1.8.1-py3-none-any.whl (209 kB)\n",
            "\u001b[K     |████████████████████████████████| 209 kB 66.3 MB/s \n",
            "\u001b[?25hRequirement already satisfied: sqlalchemy>=1.3.0 in /usr/local/lib/python3.7/dist-packages (from optuna) (1.4.42)\n",
            "Collecting colorlog\n",
            "  Downloading colorlog-6.7.0-py2.py3-none-any.whl (11 kB)\n",
            "Requirement already satisfied: numpy in /usr/local/lib/python3.7/dist-packages (from optuna) (1.21.6)\n",
            "Requirement already satisfied: scipy<1.9.0,>=1.7.0 in /usr/local/lib/python3.7/dist-packages (from optuna) (1.7.3)\n",
            "Requirement already satisfied: importlib-metadata<5.0.0 in /usr/local/lib/python3.7/dist-packages (from optuna) (4.13.0)\n",
            "Requirement already satisfied: packaging>=20.0 in /usr/local/lib/python3.7/dist-packages (from optuna) (21.3)\n",
            "Requirement already satisfied: PyYAML in /usr/local/lib/python3.7/dist-packages (from optuna) (6.0)\n",
            "Collecting cmaes>=0.8.2\n",
            "  Downloading cmaes-0.8.2-py3-none-any.whl (15 kB)\n",
            "Collecting cliff\n",
            "  Downloading cliff-3.10.1-py3-none-any.whl (81 kB)\n",
            "\u001b[K     |████████████████████████████████| 81 kB 9.7 MB/s \n",
            "\u001b[?25hRequirement already satisfied: tqdm in /usr/local/lib/python3.7/dist-packages (from optuna) (4.64.1)\n",
            "Requirement already satisfied: importlib-resources in /usr/local/lib/python3.7/dist-packages (from alembic>=1.5.0->optuna) (5.10.0)\n",
            "Collecting Mako\n",
            "  Downloading Mako-1.2.3-py3-none-any.whl (78 kB)\n",
            "\u001b[K     |████████████████████████████████| 78 kB 8.4 MB/s \n",
            "\u001b[?25hRequirement already satisfied: typing-extensions>=3.6.4 in /usr/local/lib/python3.7/dist-packages (from importlib-metadata<5.0.0->optuna) (4.1.1)\n",
            "Requirement already satisfied: zipp>=0.5 in /usr/local/lib/python3.7/dist-packages (from importlib-metadata<5.0.0->optuna) (3.10.0)\n",
            "Requirement already satisfied: pyparsing!=3.0.5,>=2.0.2 in /usr/local/lib/python3.7/dist-packages (from packaging>=20.0->optuna) (3.0.9)\n",
            "Requirement already satisfied: greenlet!=0.4.17 in /usr/local/lib/python3.7/dist-packages (from sqlalchemy>=1.3.0->optuna) (1.1.3.post0)\n",
            "Collecting stevedore>=2.0.1\n",
            "  Downloading stevedore-3.5.2-py3-none-any.whl (50 kB)\n",
            "\u001b[K     |████████████████████████████████| 50 kB 7.4 MB/s \n",
            "\u001b[?25hCollecting autopage>=0.4.0\n",
            "  Downloading autopage-0.5.1-py3-none-any.whl (29 kB)\n",
            "Collecting pbr!=2.1.0,>=2.0.0\n",
            "  Downloading pbr-5.11.0-py2.py3-none-any.whl (112 kB)\n",
            "\u001b[K     |████████████████████████████████| 112 kB 66.2 MB/s \n",
            "\u001b[?25hRequirement already satisfied: PrettyTable>=0.7.2 in /usr/local/lib/python3.7/dist-packages (from cliff->optuna) (3.4.1)\n",
            "Collecting cmd2>=1.0.0\n",
            "  Downloading cmd2-2.4.2-py3-none-any.whl (147 kB)\n",
            "\u001b[K     |████████████████████████████████| 147 kB 61.3 MB/s \n",
            "\u001b[?25hRequirement already satisfied: wcwidth>=0.1.7 in /usr/local/lib/python3.7/dist-packages (from cmd2>=1.0.0->cliff->optuna) (0.2.5)\n",
            "Collecting pyperclip>=1.6\n",
            "  Downloading pyperclip-1.8.2.tar.gz (20 kB)\n",
            "Requirement already satisfied: attrs>=16.3.0 in /usr/local/lib/python3.7/dist-packages (from cmd2>=1.0.0->cliff->optuna) (22.1.0)\n",
            "Requirement already satisfied: MarkupSafe>=0.9.2 in /usr/local/lib/python3.7/dist-packages (from Mako->alembic>=1.5.0->optuna) (2.0.1)\n",
            "Building wheels for collected packages: pyperclip\n",
            "  Building wheel for pyperclip (setup.py) ... \u001b[?25l\u001b[?25hdone\n",
            "  Created wheel for pyperclip: filename=pyperclip-1.8.2-py3-none-any.whl size=11137 sha256=03030b990a01a8e553457d1fafd29f2668ce2d45d5b864ed7e02bd2017a93033\n",
            "  Stored in directory: /root/.cache/pip/wheels/9f/18/84/8f69f8b08169c7bae2dde6bd7daf0c19fca8c8e500ee620a28\n",
            "Successfully built pyperclip\n",
            "Installing collected packages: pyperclip, pbr, stevedore, Mako, cmd2, autopage, colorlog, cmaes, cliff, alembic, optuna\n",
            "Successfully installed Mako-1.2.3 alembic-1.8.1 autopage-0.5.1 cliff-3.10.1 cmaes-0.8.2 cmd2-2.4.2 colorlog-6.7.0 optuna-3.0.3 pbr-5.11.0 pyperclip-1.8.2 stevedore-3.5.2\n"
          ]
        }
      ]
    },
    {
      "cell_type": "code",
      "source": [
        "!pip install lightgbm.callback"
      ],
      "metadata": {
        "colab": {
          "base_uri": "https://localhost:8080/"
        },
        "id": "2gnWixbC6o5N",
        "outputId": "5813a8da-c03b-48cc-e272-1a1c7e585717"
      },
      "execution_count": 35,
      "outputs": [
        {
          "output_type": "stream",
          "name": "stdout",
          "text": [
            "Looking in indexes: https://pypi.org/simple, https://us-python.pkg.dev/colab-wheels/public/simple/\n",
            "\u001b[31mERROR: Could not find a version that satisfies the requirement lightgbm.callback (from versions: none)\u001b[0m\n",
            "\u001b[31mERROR: No matching distribution found for lightgbm.callback\u001b[0m\n"
          ]
        }
      ]
    },
    {
      "cell_type": "code",
      "source": [
        "import optuna\n",
        "#from lightgbm.callback import log_evaluation, early_stopping\n",
        "\n",
        "\n",
        "def objective(trial, data=X, target=optuna_train_values):\n",
        "    print(optuna_train_values)\n",
        "    train_x, test_x, train_y, test_y = model_selection.train_test_split(data, target, test_size=0.3, random_state=42)\n",
        "    param = {\n",
        "        'metric': 'rmse', \n",
        "        'random_state': 42,\n",
        "        'n_estimators': trial.suggest_int('n_estimators', 10, 500),\n",
        "        'reg_alpha': trial.suggest_loguniform('reg_alpha', 1e-3, 10.0),\n",
        "        'reg_lambda': trial.suggest_loguniform('reg_lambda', 1e-3, 10.0),\n",
        "        'colsample_bytree': trial.suggest_categorical('colsample_bytree', [0.001, 0.01, 0.3,0.4,0.5,0.6,0.7,0.8,0.9, 1.0]),\n",
        "        'subsample': trial.suggest_categorical('subsample', [0.2, 0.4,0.5,0.6,0.7,0.8,1.0]),\n",
        "        'learning_rate': trial.suggest_categorical('learning_rate', [0.004, 0.008, 0.01, 0.02, 0.05, .1, 0.2, 0.5]),\n",
        "        'max_depth': trial.suggest_categorical('max_depth', [10, 20,100, 150]),\n",
        "        'min_child_samples': trial.suggest_int('min_child_samples', 1, 300),\n",
        "    }\n",
        "    model = LGBMRegressor(**param)  \n",
        "    \n",
        "    model.fit(train_x, train_y, eval_set=[(test_x, test_y)], callbacks=[log_evaluation(period=0)])\n",
        "    \n",
        "    preds = model.predict(test_x)\n",
        "    \n",
        "    rmse = np.sqrt(metrics.mean_squared_error(test_y, preds))\n",
        "    \n",
        "    return rmse"
      ],
      "metadata": {
        "id": "kr_MWlaL2E1Q"
      },
      "execution_count": 36,
      "outputs": []
    },
    {
      "cell_type": "code",
      "source": [
        "#all_train_vals=[cohesion_train,syntax_train,vocabulary_train,phraseology_train,grammar_train,conventions_train]\n",
        "#studies=[]\n",
        "#for i in range(0,len(all_train_vals)):\n",
        "#    optuna_train_values=all_train_vals[i]\n",
        "    \n",
        "#    optuna.logging.set_verbosity(optuna.logging.INFO)\n",
        "\n",
        "#    study = optuna.create_study(direction='minimize')\n",
        "#    study.optimize(objective, n_trials=50)\n",
        "#    print(f'Number of finished trials: {len(study.trials)}')\n",
        "#    print(f'Best trial: {study.best_trial.params}')\n",
        "#    print(f'Best score: {study.best_value}')\n",
        "#    studies.append(study)"
      ],
      "metadata": {
        "id": "IpGr-Bnw2Oqj"
      },
      "execution_count": null,
      "outputs": []
    },
    {
      "cell_type": "code",
      "source": [
        "#cohesion_best_params = studies[0].best_trial.params\n",
        "#syntax_best_params = studies[1].best_trial.params\n",
        "#vocabulary_best_params = studies[2].best_trial.params\n",
        "#phraseology_best_params = studies[3].best_trial.params\n",
        "#grammar_best_params =studies[4].best_trial.params\n",
        "#conventions_best_params =studies[5].best_trial.params"
      ],
      "metadata": {
        "id": "ZavRZtyB2OuC"
      },
      "execution_count": null,
      "outputs": []
    },
    {
      "cell_type": "code",
      "source": [
        "#for i in range(0,6):\n",
        "#    print(studies[i].best_trial.params)"
      ],
      "metadata": {
        "id": "0O0lpA-F2Zmt"
      },
      "execution_count": null,
      "outputs": []
    },
    {
      "cell_type": "code",
      "source": [
        "cohesion_best_params = {'n_estimators': 61, 'reg_alpha': 0.19628342273354243, 'reg_lambda': 9.065652312939543, 'colsample_bytree': 1.0, 'subsample': 1.0, 'learning_rate': 0.01, 'max_depth': 10, 'min_child_samples': 241}\n",
        "syntax_best_params = {'n_estimators': 99, 'reg_alpha': 0.046444714143389895, 'reg_lambda': 0.06051595166886711, 'colsample_bytree': 0.6, 'subsample': 0.2, 'learning_rate': 0.01, 'max_depth': 20, 'min_child_samples': 121}\n",
        "vocabulary_best_params = {'n_estimators': 497, 'reg_alpha': 0.29474348628071534, 'reg_lambda': 1.9286577626868704, 'colsample_bytree': 0.4, 'subsample': 0.6, 'learning_rate': 0.01, 'max_depth': 10, 'min_child_samples': 25}\n",
        "phraseology_best_params ={'n_estimators': 16, 'reg_alpha': 0.2912483722327398, 'reg_lambda': 0.7934234053915282, 'colsample_bytree': 0.6, 'subsample': 0.7, 'learning_rate': 0.05, 'max_depth': 10, 'min_child_samples': 207}\n",
        "grammar_best_params = {'n_estimators': 264, 'reg_alpha': 6.681049401764443, 'reg_lambda': 0.0031323977834200206, 'colsample_bytree': 0.5, 'subsample': 0.4, 'learning_rate': 0.05, 'max_depth': 20, 'min_child_samples': 162}\n",
        "conventions_best_params = {'n_estimators': 278, 'reg_alpha': 2.268247355659357, 'reg_lambda': 1.844391747146949, 'colsample_bytree': 0.9, 'subsample': 0.6, 'learning_rate': 0.2, 'max_depth': 150, 'min_child_samples': 178}"
      ],
      "metadata": {
        "id": "NW9gC0tH2ZqQ"
      },
      "execution_count": 37,
      "outputs": []
    },
    {
      "cell_type": "markdown",
      "source": [
        "#training"
      ],
      "metadata": {
        "id": "0iQFeLIJ2i5N"
      }
    },
    {
      "cell_type": "code",
      "source": [
        "training_performances_container = []\n",
        "val_performances_container = []"
      ],
      "metadata": {
        "id": "HHvG-HwG2hHA"
      },
      "execution_count": 38,
      "outputs": []
    },
    {
      "cell_type": "code",
      "source": [
        "cv_strategy = model_selection.KFold(n_splits=5, shuffle=True, random_state=42)\n",
        "\n",
        "performances = {}\n",
        "\n",
        "for var in [(\"cohesion\", cohesion_train, cohesion_best_params), (\"syntax\", syntax_train, syntax_best_params), (\"vocabulary\", vocabulary_train, vocabulary_best_params), \n",
        "            (\"phraseology\", phraseology_train, phraseology_best_params), (\"grammar\", grammar_train, grammar_best_params), (\"conventions\", conventions_train, conventions_best_params)]:\n",
        "    print(f'Validating on {var[0]}')\n",
        "    fold = 0\n",
        "    train_scores = []\n",
        "    val_scores = []\n",
        "    \n",
        "    for train_idx, val_idx in cv_strategy.split(X, var[1]):\n",
        "\n",
        "        # train\n",
        "        X_train = X[train_idx]\n",
        "        y_train = var[1][train_idx]\n",
        "\n",
        "        # validation\n",
        "        X_val = X[val_idx]\n",
        "        y_val = var[1][val_idx]\n",
        "\n",
        "        # training\n",
        "        model = LGBMRegressor(**var[2])\n",
        "        model.fit(X_train, y_train)\n",
        "\n",
        "        # predicting\n",
        "        train_preds = model.predict(X_train)\n",
        "        val_preds = model.predict(X_val)\n",
        "\n",
        "        # storing scores\n",
        "        train_score = np.sqrt(metrics.mean_squared_error(y_train, train_preds))\n",
        "        val_score = np.sqrt(metrics.mean_squared_error(y_val, val_preds))\n",
        "\n",
        "        train_scores.append(train_score)\n",
        "        val_scores.append(val_score)\n",
        "\n",
        "        print(f\"Fold {fold} ==> Train accuracy: {train_score:0.4f} | Validation accuracy: {val_score:0.4f}\")\n",
        "        fold += 1\n",
        "\n",
        "    training_performance = np.mean(train_scores)\n",
        "    val_performance = np.mean(val_scores)\n",
        "    \n",
        "    training_performances_container.append(training_performance)\n",
        "    val_performances_container.append(val_performance)\n",
        "    print(f\"END. Average training performance: {training_performance:0.4f} | Average validation performance: {val_performance:0.4f}\")"
      ],
      "metadata": {
        "colab": {
          "base_uri": "https://localhost:8080/"
        },
        "id": "S1XDGvAf2hKN",
        "outputId": "b866d7db-0aba-4212-fb30-20cded2f1402"
      },
      "execution_count": 39,
      "outputs": [
        {
          "output_type": "stream",
          "name": "stdout",
          "text": [
            "Validating on cohesion\n",
            "Fold 0 ==> Train accuracy: 0.6101 | Validation accuracy: 0.6088\n",
            "Fold 1 ==> Train accuracy: 0.6076 | Validation accuracy: 0.6317\n",
            "Fold 2 ==> Train accuracy: 0.6099 | Validation accuracy: 0.6161\n",
            "Fold 3 ==> Train accuracy: 0.6038 | Validation accuracy: 0.6401\n",
            "Fold 4 ==> Train accuracy: 0.6092 | Validation accuracy: 0.6203\n",
            "END. Average training performance: 0.6081 | Average validation performance: 0.6234\n",
            "Validating on syntax\n",
            "Fold 0 ==> Train accuracy: 0.5284 | Validation accuracy: 0.5809\n",
            "Fold 1 ==> Train accuracy: 0.5294 | Validation accuracy: 0.5804\n",
            "Fold 2 ==> Train accuracy: 0.5288 | Validation accuracy: 0.5794\n",
            "Fold 3 ==> Train accuracy: 0.5276 | Validation accuracy: 0.5835\n",
            "Fold 4 ==> Train accuracy: 0.5323 | Validation accuracy: 0.5657\n",
            "END. Average training performance: 0.5293 | Average validation performance: 0.5780\n",
            "Validating on vocabulary\n",
            "Fold 0 ==> Train accuracy: 0.2124 | Validation accuracy: 0.4525\n",
            "Fold 1 ==> Train accuracy: 0.2117 | Validation accuracy: 0.4604\n",
            "Fold 2 ==> Train accuracy: 0.2139 | Validation accuracy: 0.4344\n",
            "Fold 3 ==> Train accuracy: 0.2130 | Validation accuracy: 0.4572\n",
            "Fold 4 ==> Train accuracy: 0.2157 | Validation accuracy: 0.4360\n",
            "END. Average training performance: 0.2133 | Average validation performance: 0.4481\n",
            "Validating on phraseology\n",
            "Fold 0 ==> Train accuracy: 0.5778 | Validation accuracy: 0.6000\n",
            "Fold 1 ==> Train accuracy: 0.5774 | Validation accuracy: 0.5968\n",
            "Fold 2 ==> Train accuracy: 0.5771 | Validation accuracy: 0.6025\n",
            "Fold 3 ==> Train accuracy: 0.5749 | Validation accuracy: 0.6093\n",
            "Fold 4 ==> Train accuracy: 0.5786 | Validation accuracy: 0.5902\n",
            "END. Average training performance: 0.5771 | Average validation performance: 0.5998\n",
            "Validating on grammar\n",
            "Fold 0 ==> Train accuracy: 0.2921 | Validation accuracy: 0.5388\n",
            "Fold 1 ==> Train accuracy: 0.2929 | Validation accuracy: 0.5466\n",
            "Fold 2 ==> Train accuracy: 0.2898 | Validation accuracy: 0.5540\n",
            "Fold 3 ==> Train accuracy: 0.2915 | Validation accuracy: 0.5546\n",
            "Fold 4 ==> Train accuracy: 0.2920 | Validation accuracy: 0.5455\n",
            "END. Average training performance: 0.2917 | Average validation performance: 0.5479\n",
            "Validating on conventions\n",
            "Fold 0 ==> Train accuracy: 0.0632 | Validation accuracy: 0.5276\n",
            "Fold 1 ==> Train accuracy: 0.0638 | Validation accuracy: 0.5273\n",
            "Fold 2 ==> Train accuracy: 0.0641 | Validation accuracy: 0.5260\n",
            "Fold 3 ==> Train accuracy: 0.0637 | Validation accuracy: 0.5362\n",
            "Fold 4 ==> Train accuracy: 0.0631 | Validation accuracy: 0.5450\n",
            "END. Average training performance: 0.0636 | Average validation performance: 0.5324\n"
          ]
        }
      ]
    },
    {
      "cell_type": "code",
      "source": [
        "cohesion_model = LGBMRegressor(**cohesion_best_params)\n",
        "syntax_model = LGBMRegressor(**syntax_best_params)\n",
        "vocabulary_model = LGBMRegressor(**vocabulary_best_params)\n",
        "phraseology_model = LGBMRegressor(**phraseology_best_params)\n",
        "grammar_model = LGBMRegressor(**grammar_best_params)\n",
        "conventions_model = LGBMRegressor(**conventions_best_params)"
      ],
      "metadata": {
        "id": "7ngQKwEW208Q"
      },
      "execution_count": 40,
      "outputs": []
    },
    {
      "cell_type": "code",
      "source": [
        "print(f'Fitting Cohesion Model')\n",
        "cohesion_model.fit(X, cohesion_train)\n",
        "print(f'Fitting Syntax Model')\n",
        "syntax_model.fit(X, syntax_train)\n",
        "print(f'Fitting Vocabulary Model')\n",
        "vocabulary_model.fit(X, vocabulary_train)\n",
        "print(f'Fitting Phraseology Model')\n",
        "phraseology_model.fit(X, phraseology_train)\n",
        "print(f'Fitting Grammar Model')\n",
        "grammar_model.fit(X, grammar_train)\n",
        "print(f'Fitting Conventions Model')\n",
        "conventions_model.fit(X, conventions_train)"
      ],
      "metadata": {
        "colab": {
          "base_uri": "https://localhost:8080/"
        },
        "id": "BVobpUXk20_Z",
        "outputId": "872168a6-5939-403d-c40c-48cf980c22b8"
      },
      "execution_count": 41,
      "outputs": [
        {
          "output_type": "stream",
          "name": "stdout",
          "text": [
            "Fitting Cohesion Model\n",
            "Fitting Syntax Model\n",
            "Fitting Vocabulary Model\n",
            "Fitting Phraseology Model\n",
            "Fitting Grammar Model\n",
            "Fitting Conventions Model\n"
          ]
        },
        {
          "output_type": "execute_result",
          "data": {
            "text/plain": [
              "LGBMRegressor(colsample_bytree=0.9, learning_rate=0.2, max_depth=150,\n",
              "              min_child_samples=178, n_estimators=278,\n",
              "              reg_alpha=2.268247355659357, reg_lambda=1.844391747146949,\n",
              "              subsample=0.6)"
            ]
          },
          "metadata": {},
          "execution_count": 41
        }
      ]
    },
    {
      "cell_type": "markdown",
      "source": [
        "#generate output"
      ],
      "metadata": {
        "id": "F7X7zEXS3GCU"
      }
    },
    {
      "cell_type": "code",
      "source": [
        "xx=[doc2vecModel.infer_vector(processed_essays_test[i]) for i in range(0,len(processed_essays_test))]"
      ],
      "metadata": {
        "id": "wq9N-3gR3EaV"
      },
      "execution_count": 42,
      "outputs": []
    },
    {
      "cell_type": "code",
      "source": [
        "X_test = np.array(xx)"
      ],
      "metadata": {
        "id": "NM66Grf93EdT"
      },
      "execution_count": 43,
      "outputs": []
    },
    {
      "cell_type": "code",
      "source": [
        "cohesion_predictions = cohesion_model.predict(X_test)\n",
        "syntax_predictions = syntax_model.predict(X_test)\n",
        "vocabulary_predictions = vocabulary_model.predict(X_test)\n",
        "phraseology_predictions = phraseology_model.predict(X_test)\n",
        "grammar_predictions = grammar_model.predict(X_test)\n",
        "conventions_predictions = conventions_model.predict(X_test)"
      ],
      "metadata": {
        "id": "V6n2-jyI3Pyn"
      },
      "execution_count": 44,
      "outputs": []
    },
    {
      "cell_type": "code",
      "source": [
        "submission = test.copy()\n",
        "submission=submission.drop('full_text',axis=1)\n",
        "submission['cohesion'] = cohesion_predictions\n",
        "submission['syntax'] = syntax_predictions\n",
        "submission['vocabulary'] = vocabulary_predictions\n",
        "submission['phraseology'] = phraseology_predictions\n",
        "submission['grammar'] = grammar_predictions\n",
        "submission['conventions'] = conventions_predictions"
      ],
      "metadata": {
        "id": "7guuiNp23P2S"
      },
      "execution_count": 45,
      "outputs": []
    },
    {
      "cell_type": "code",
      "source": [
        "submission"
      ],
      "metadata": {
        "colab": {
          "base_uri": "https://localhost:8080/",
          "height": 143
        },
        "id": "NlyzctVa3aO1",
        "outputId": "9bc9b441-58e8-4890-8a92-7d46c0525b1c"
      },
      "execution_count": 46,
      "outputs": [
        {
          "output_type": "execute_result",
          "data": {
            "text/plain": [
              "        text_id  cohesion    syntax  vocabulary  phraseology   grammar  \\\n",
              "0  0000C359D63E  3.094363  2.838046    3.048167     2.971879  2.829055   \n",
              "1  000BAD50D026  3.045275  2.892546    3.207672     3.034207  3.128108   \n",
              "2  00367BB2546B  3.142585  3.186454    3.606307     3.292800  3.712585   \n",
              "\n",
              "   conventions  \n",
              "0     2.925461  \n",
              "1     3.470155  \n",
              "2     3.605537  "
            ],
            "text/html": [
              "\n",
              "  <div id=\"df-fce4241e-f26a-4416-9e9f-d10cff9edc47\">\n",
              "    <div class=\"colab-df-container\">\n",
              "      <div>\n",
              "<style scoped>\n",
              "    .dataframe tbody tr th:only-of-type {\n",
              "        vertical-align: middle;\n",
              "    }\n",
              "\n",
              "    .dataframe tbody tr th {\n",
              "        vertical-align: top;\n",
              "    }\n",
              "\n",
              "    .dataframe thead th {\n",
              "        text-align: right;\n",
              "    }\n",
              "</style>\n",
              "<table border=\"1\" class=\"dataframe\">\n",
              "  <thead>\n",
              "    <tr style=\"text-align: right;\">\n",
              "      <th></th>\n",
              "      <th>text_id</th>\n",
              "      <th>cohesion</th>\n",
              "      <th>syntax</th>\n",
              "      <th>vocabulary</th>\n",
              "      <th>phraseology</th>\n",
              "      <th>grammar</th>\n",
              "      <th>conventions</th>\n",
              "    </tr>\n",
              "  </thead>\n",
              "  <tbody>\n",
              "    <tr>\n",
              "      <th>0</th>\n",
              "      <td>0000C359D63E</td>\n",
              "      <td>3.094363</td>\n",
              "      <td>2.838046</td>\n",
              "      <td>3.048167</td>\n",
              "      <td>2.971879</td>\n",
              "      <td>2.829055</td>\n",
              "      <td>2.925461</td>\n",
              "    </tr>\n",
              "    <tr>\n",
              "      <th>1</th>\n",
              "      <td>000BAD50D026</td>\n",
              "      <td>3.045275</td>\n",
              "      <td>2.892546</td>\n",
              "      <td>3.207672</td>\n",
              "      <td>3.034207</td>\n",
              "      <td>3.128108</td>\n",
              "      <td>3.470155</td>\n",
              "    </tr>\n",
              "    <tr>\n",
              "      <th>2</th>\n",
              "      <td>00367BB2546B</td>\n",
              "      <td>3.142585</td>\n",
              "      <td>3.186454</td>\n",
              "      <td>3.606307</td>\n",
              "      <td>3.292800</td>\n",
              "      <td>3.712585</td>\n",
              "      <td>3.605537</td>\n",
              "    </tr>\n",
              "  </tbody>\n",
              "</table>\n",
              "</div>\n",
              "      <button class=\"colab-df-convert\" onclick=\"convertToInteractive('df-fce4241e-f26a-4416-9e9f-d10cff9edc47')\"\n",
              "              title=\"Convert this dataframe to an interactive table.\"\n",
              "              style=\"display:none;\">\n",
              "        \n",
              "  <svg xmlns=\"http://www.w3.org/2000/svg\" height=\"24px\"viewBox=\"0 0 24 24\"\n",
              "       width=\"24px\">\n",
              "    <path d=\"M0 0h24v24H0V0z\" fill=\"none\"/>\n",
              "    <path d=\"M18.56 5.44l.94 2.06.94-2.06 2.06-.94-2.06-.94-.94-2.06-.94 2.06-2.06.94zm-11 1L8.5 8.5l.94-2.06 2.06-.94-2.06-.94L8.5 2.5l-.94 2.06-2.06.94zm10 10l.94 2.06.94-2.06 2.06-.94-2.06-.94-.94-2.06-.94 2.06-2.06.94z\"/><path d=\"M17.41 7.96l-1.37-1.37c-.4-.4-.92-.59-1.43-.59-.52 0-1.04.2-1.43.59L10.3 9.45l-7.72 7.72c-.78.78-.78 2.05 0 2.83L4 21.41c.39.39.9.59 1.41.59.51 0 1.02-.2 1.41-.59l7.78-7.78 2.81-2.81c.8-.78.8-2.07 0-2.86zM5.41 20L4 18.59l7.72-7.72 1.47 1.35L5.41 20z\"/>\n",
              "  </svg>\n",
              "      </button>\n",
              "      \n",
              "  <style>\n",
              "    .colab-df-container {\n",
              "      display:flex;\n",
              "      flex-wrap:wrap;\n",
              "      gap: 12px;\n",
              "    }\n",
              "\n",
              "    .colab-df-convert {\n",
              "      background-color: #E8F0FE;\n",
              "      border: none;\n",
              "      border-radius: 50%;\n",
              "      cursor: pointer;\n",
              "      display: none;\n",
              "      fill: #1967D2;\n",
              "      height: 32px;\n",
              "      padding: 0 0 0 0;\n",
              "      width: 32px;\n",
              "    }\n",
              "\n",
              "    .colab-df-convert:hover {\n",
              "      background-color: #E2EBFA;\n",
              "      box-shadow: 0px 1px 2px rgba(60, 64, 67, 0.3), 0px 1px 3px 1px rgba(60, 64, 67, 0.15);\n",
              "      fill: #174EA6;\n",
              "    }\n",
              "\n",
              "    [theme=dark] .colab-df-convert {\n",
              "      background-color: #3B4455;\n",
              "      fill: #D2E3FC;\n",
              "    }\n",
              "\n",
              "    [theme=dark] .colab-df-convert:hover {\n",
              "      background-color: #434B5C;\n",
              "      box-shadow: 0px 1px 3px 1px rgba(0, 0, 0, 0.15);\n",
              "      filter: drop-shadow(0px 1px 2px rgba(0, 0, 0, 0.3));\n",
              "      fill: #FFFFFF;\n",
              "    }\n",
              "  </style>\n",
              "\n",
              "      <script>\n",
              "        const buttonEl =\n",
              "          document.querySelector('#df-fce4241e-f26a-4416-9e9f-d10cff9edc47 button.colab-df-convert');\n",
              "        buttonEl.style.display =\n",
              "          google.colab.kernel.accessAllowed ? 'block' : 'none';\n",
              "\n",
              "        async function convertToInteractive(key) {\n",
              "          const element = document.querySelector('#df-fce4241e-f26a-4416-9e9f-d10cff9edc47');\n",
              "          const dataTable =\n",
              "            await google.colab.kernel.invokeFunction('convertToInteractive',\n",
              "                                                     [key], {});\n",
              "          if (!dataTable) return;\n",
              "\n",
              "          const docLinkHtml = 'Like what you see? Visit the ' +\n",
              "            '<a target=\"_blank\" href=https://colab.research.google.com/notebooks/data_table.ipynb>data table notebook</a>'\n",
              "            + ' to learn more about interactive tables.';\n",
              "          element.innerHTML = '';\n",
              "          dataTable['output_type'] = 'display_data';\n",
              "          await google.colab.output.renderOutput(dataTable, element);\n",
              "          const docLink = document.createElement('div');\n",
              "          docLink.innerHTML = docLinkHtml;\n",
              "          element.appendChild(docLink);\n",
              "        }\n",
              "      </script>\n",
              "    </div>\n",
              "  </div>\n",
              "  "
            ]
          },
          "metadata": {},
          "execution_count": 46
        }
      ]
    },
    {
      "cell_type": "code",
      "source": [
        "submission.to_csv(\"submission.csv\", index=False)"
      ],
      "metadata": {
        "id": "XnC0EvmA3aR_"
      },
      "execution_count": 47,
      "outputs": []
    },
    {
      "cell_type": "markdown",
      "source": [
        "#succesfully created submission anylisis"
      ],
      "metadata": {
        "id": "8Mn3zA7AAEJi"
      }
    }
  ],
  "metadata": {
    "colab": {
      "provenance": [],
      "authorship_tag": "ABX9TyPIijnkZ/W1aPFB6z9XRb3A",
      "include_colab_link": true
    },
    "kernelspec": {
      "display_name": "Python 3",
      "name": "python3"
    },
    "language_info": {
      "name": "python"
    },
    "accelerator": "GPU",
    "gpuClass": "standard"
  },
  "nbformat": 4,
  "nbformat_minor": 0
}